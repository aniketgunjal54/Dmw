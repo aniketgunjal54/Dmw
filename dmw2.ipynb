{
 "cells": [
  {
   "cell_type": "code",
   "execution_count": 1,
   "id": "9fa7afbf",
   "metadata": {},
   "outputs": [],
   "source": [
    "import pandas as pd\n",
    "import numpy as np\n",
    "import seaborn as sns\n",
    "import matplotlib.pyplot as plt\n",
    "from sklearn.preprocessing import MinMaxScaler, StandardScaler"
   ]
  },
  {
   "cell_type": "code",
   "execution_count": 13,
   "id": "46b45b36",
   "metadata": {},
   "outputs": [],
   "source": [
    "# Load dataset\n",
    "df = pd.read_csv(\"tested.csv\")\n",
    "\n",
    "# Select numerical attributes\n",
    "numerical_cols = [\"Age\", \"Fare\", \"Pclass\"]\n",
    "\n",
    "# Drop rows with missing values in numerical columns\n",
    "df = df[numerical_cols].dropna()"
   ]
  },
  {
   "cell_type": "code",
   "execution_count": 14,
   "id": "cfbe6806",
   "metadata": {},
   "outputs": [
    {
     "data": {
      "text/html": [
       "<div>\n",
       "<style scoped>\n",
       "    .dataframe tbody tr th:only-of-type {\n",
       "        vertical-align: middle;\n",
       "    }\n",
       "\n",
       "    .dataframe tbody tr th {\n",
       "        vertical-align: top;\n",
       "    }\n",
       "\n",
       "    .dataframe thead th {\n",
       "        text-align: right;\n",
       "    }\n",
       "</style>\n",
       "<table border=\"1\" class=\"dataframe\">\n",
       "  <thead>\n",
       "    <tr style=\"text-align: right;\">\n",
       "      <th></th>\n",
       "      <th>Age</th>\n",
       "      <th>Fare</th>\n",
       "      <th>Pclass</th>\n",
       "    </tr>\n",
       "  </thead>\n",
       "  <tbody>\n",
       "    <tr>\n",
       "      <th>0</th>\n",
       "      <td>34.5</td>\n",
       "      <td>7.8292</td>\n",
       "      <td>3</td>\n",
       "    </tr>\n",
       "    <tr>\n",
       "      <th>1</th>\n",
       "      <td>47.0</td>\n",
       "      <td>7.0000</td>\n",
       "      <td>3</td>\n",
       "    </tr>\n",
       "    <tr>\n",
       "      <th>2</th>\n",
       "      <td>62.0</td>\n",
       "      <td>9.6875</td>\n",
       "      <td>2</td>\n",
       "    </tr>\n",
       "    <tr>\n",
       "      <th>3</th>\n",
       "      <td>27.0</td>\n",
       "      <td>8.6625</td>\n",
       "      <td>3</td>\n",
       "    </tr>\n",
       "    <tr>\n",
       "      <th>4</th>\n",
       "      <td>22.0</td>\n",
       "      <td>12.2875</td>\n",
       "      <td>3</td>\n",
       "    </tr>\n",
       "  </tbody>\n",
       "</table>\n",
       "</div>"
      ],
      "text/plain": [
       "    Age     Fare  Pclass\n",
       "0  34.5   7.8292       3\n",
       "1  47.0   7.0000       3\n",
       "2  62.0   9.6875       2\n",
       "3  27.0   8.6625       3\n",
       "4  22.0  12.2875       3"
      ]
     },
     "execution_count": 14,
     "metadata": {},
     "output_type": "execute_result"
    }
   ],
   "source": [
    "df.head()"
   ]
  },
  {
   "cell_type": "code",
   "execution_count": 3,
   "id": "6cb3632a",
   "metadata": {},
   "outputs": [
    {
     "name": "stdout",
     "output_type": "stream",
     "text": [
      "Standard Deviation:\n",
      " PassengerId    120.810458\n",
      "Survived         0.481622\n",
      "Pclass           0.841838\n",
      "Age             14.181209\n",
      "SibSp            0.896760\n",
      "Parch            0.981429\n",
      "Fare            55.907576\n",
      "dtype: float64\n",
      "\n",
      "Variance:\n",
      " PassengerId    14595.166667\n",
      "Survived           0.231960\n",
      "Pclass             0.708690\n",
      "Age              201.106695\n",
      "SibSp              0.804178\n",
      "Parch              0.963203\n",
      "Fare            3125.657074\n",
      "dtype: float64\n"
     ]
    },
    {
     "name": "stderr",
     "output_type": "stream",
     "text": [
      "C:\\Users\\hp\\AppData\\Local\\Temp\\ipykernel_1848\\1456691243.py:2: FutureWarning: Dropping of nuisance columns in DataFrame reductions (with 'numeric_only=None') is deprecated; in a future version this will raise TypeError.  Select only valid columns before calling the reduction.\n",
      "  std_dev = df.std()\n",
      "C:\\Users\\hp\\AppData\\Local\\Temp\\ipykernel_1848\\1456691243.py:3: FutureWarning: Dropping of nuisance columns in DataFrame reductions (with 'numeric_only=None') is deprecated; in a future version this will raise TypeError.  Select only valid columns before calling the reduction.\n",
      "  variance = df.var()\n"
     ]
    }
   ],
   "source": [
    "# 1. Compute Standard Deviation & Variance using built in function\n",
    "std_dev = df.std()\n",
    "variance = df.var()\n",
    "\n",
    "print(\"Standard Deviation:\\n\", std_dev)\n",
    "print(\"\\nVariance:\\n\", variance)"
   ]
  },
  {
   "cell_type": "code",
   "execution_count": 4,
   "id": "8f4729e7",
   "metadata": {},
   "outputs": [
    {
     "name": "stdout",
     "output_type": "stream",
     "text": [
      "Variance: {'Age': nan, 'Fare': nan, 'Pclass': 0.706995032165017}\n",
      "Standard Deviation: {'Age': nan, 'Fare': nan, 'Pclass': 0.8408299662625119}\n"
     ]
    }
   ],
   "source": [
    "#without using built in function\n",
    "variance_manual = {}\n",
    "std_dev_manual = {}\n",
    "\n",
    "for col in numerical_cols:\n",
    "    values = df[col].values\n",
    "    mean_value = sum(values) / len(values)  \n",
    "    squared_diffs = [(x - mean_value) ** 2 for x in values]  \n",
    "    variance_manual[col] = sum(squared_diffs) / len(values)  \n",
    "    std_dev_manual[col] = variance_manual[col] ** 0.5  \n",
    "\n",
    "print(\"Variance:\", variance_manual)\n",
    "print(\"Standard Deviation:\", std_dev_manual)"
   ]
  },
  {
   "cell_type": "code",
   "execution_count": 5,
   "id": "d712d738",
   "metadata": {},
   "outputs": [
    {
     "name": "stdout",
     "output_type": "stream",
     "text": [
      "\n",
      "Covariance Matrix:\n",
      "               PassengerId  Survived     Pclass         Age     SibSp  \\\n",
      "PassengerId  14595.166667 -1.352518  -2.720624  -59.369047  0.413669   \n",
      "Survived        -1.352518  0.231960  -0.044037   -0.000088  0.043165   \n",
      "Pclass          -2.720624 -0.044037   0.708690   -5.906358  0.000820   \n",
      "Age            -59.369047 -0.000088  -5.906358  201.106695 -1.135270   \n",
      "SibSp            0.413669  0.043165   0.000820   -1.135270  0.804178   \n",
      "Parch            5.107914  0.075213   0.015467   -0.704115  0.270100   \n",
      "Fare            55.514238  5.159417 -27.171232  291.838610  8.607981   \n",
      "\n",
      "                 Parch         Fare  \n",
      "PassengerId   5.107914    55.514238  \n",
      "Survived      0.075213     5.159417  \n",
      "Pclass        0.015467   -27.171232  \n",
      "Age          -0.704115   291.838610  \n",
      "SibSp         0.270100     8.607981  \n",
      "Parch         0.963203    12.635175  \n",
      "Fare         12.635175  3125.657074  \n",
      "\n",
      "Correlation Matrix:\n",
      "              PassengerId  Survived    Pclass       Age     SibSp     Parch  \\\n",
      "PassengerId     1.000000 -0.023245 -0.026751 -0.034102  0.003818  0.043080   \n",
      "Survived       -0.023245  1.000000 -0.108615 -0.000013  0.099943  0.159120   \n",
      "Pclass         -0.026751 -0.108615  1.000000 -0.492143  0.001087  0.018721   \n",
      "Age            -0.034102 -0.000013 -0.492143  1.000000 -0.091587 -0.061249   \n",
      "SibSp           0.003818  0.099943  0.001087 -0.091587  1.000000  0.306895   \n",
      "Parch           0.043080  0.159120  0.018721 -0.061249  0.306895  1.000000   \n",
      "Fare            0.008211  0.191514 -0.577147  0.337932  0.171539  0.230046   \n",
      "\n",
      "                 Fare  \n",
      "PassengerId  0.008211  \n",
      "Survived     0.191514  \n",
      "Pclass      -0.577147  \n",
      "Age          0.337932  \n",
      "SibSp        0.171539  \n",
      "Parch        0.230046  \n",
      "Fare         1.000000  \n"
     ]
    },
    {
     "data": {
      "image/png": "[encoded data removed]",
      "text/plain": [
       "<Figure size 640x480 with 2 Axes>"
      ]
     },
     "metadata": {},
     "output_type": "display_data"
    }
   ],
   "source": [
    "# 2. Compute Covariance & Correlation Matrix\n",
    "cov_matrix = df.cov()\n",
    "correlation_matrix = df.corr()\n",
    "\n",
    "print(\"\\nCovariance Matrix:\\n\", cov_matrix)\n",
    "print(\"\\nCorrelation Matrix:\\n\", correlation_matrix)\n",
    "\n",
    "# Visualizing correlation matrix\n",
    "sns.heatmap(correlation_matrix, annot=True, cmap=\"coolwarm\", fmt=\".2f\")\n",
    "plt.title(\"Correlation Matrix\")\n",
    "plt.show()"
   ]
  },
  {
   "cell_type": "code",
   "execution_count": 23,
   "id": "31db6d2e",
   "metadata": {},
   "outputs": [
    {
     "name": "stdout",
     "output_type": "stream",
     "text": [
      "Covariance: {'Age-Fare': 290.9569223907228, 'Age-Pclass': -5.984711895656299, 'Fare-Age': 290.9569223907228, 'Fare-Pclass': -30.257527503399924, 'Pclass-Age': -5.984711895656299, 'Pclass-Fare': -30.257527503399924}\n",
      "Correlation: {'Age-Fare': 0.3379315845519921, 'Age-Pclass': -0.5029193303548648, 'Fare-Age': 0.3379315845519921, 'Fare-Pclass': -0.5857258812324443, 'Pclass-Age': -0.5029193303548648, 'Pclass-Fare': -0.5857258812324443}\n"
     ]
    }
   ],
   "source": [
    "# Compute Covariance & Correlation Manually\n",
    "def manual_covariance(x, y):\n",
    "    mean_x = sum(x) / len(x)\n",
    "    mean_y = sum(y) / len(y)\n",
    "    covariance = sum((x[i] - mean_x) * (y[i] - mean_y) for i in range(len(x))) / len(x)\n",
    "    return covariance\n",
    "\n",
    "def manual_correlation(x, y):\n",
    "    std_x = (sum((i - sum(x) / len(x)) ** 2 for i in x) / len(x)) ** 0.5\n",
    "    std_y = (sum((i - sum(y) / len(y)) ** 2 for i in y) / len(y)) ** 0.5\n",
    "    return manual_covariance(x, y) / (std_x * std_y)\n",
    "\n",
    "cov_matrix_manual = {}\n",
    "corr_matrix_manual = {}\n",
    "\n",
    "for col1 in numerical_cols:\n",
    "    for col2 in numerical_cols:\n",
    "        if col1 != col2:\n",
    "            cov_matrix_manual[f\"{col1}-{col2}\"] = manual_covariance(df[col1].values, df[col2].values)\n",
    "            corr_matrix_manual[f\"{col1}-{col2}\"] = manual_correlation(df[col1].values, df[col2].values)\n",
    "\n",
    "print(\"Covariance:\", cov_matrix_manual)\n",
    "print(\"Correlation:\", corr_matrix_manual)\n"
   ]
  },
  {
   "cell_type": "code",
   "execution_count": 6,
   "id": "8217805b",
   "metadata": {},
   "outputs": [
    {
     "name": "stdout",
     "output_type": "stream",
     "text": [
      "\n",
      "Independent Features:\n",
      " []\n"
     ]
    }
   ],
   "source": [
    "# 3. Identifying Independent Features using correlation threshold\n",
    "threshold = 0.8  # If correlation > 0.8, they are highly correlated\n",
    "independent_features = []\n",
    "for col in correlation_matrix.columns:\n",
    "    if all(abs(correlation_matrix[col]) < threshold):\n",
    "        independent_features.append(col)\n",
    "\n",
    "print(\"\\nIndependent Features:\\n\", independent_features)"
   ]
  },
  {
   "cell_type": "code",
   "execution_count": 7,
   "id": "49c4bb3e",
   "metadata": {},
   "outputs": [
    {
     "name": "stdout",
     "output_type": "stream",
     "text": [
      "\n",
      "Potential Unwanted Features:\n",
      " ['Survived']\n"
     ]
    }
   ],
   "source": [
    "# 4. Identifying Unwanted Features (Based on low correlation with target or high missing values)\n",
    "unwanted_features = []\n",
    "missing_values = df.isnull().sum()\n",
    "low_variance = variance[variance < 0.5].index.tolist()\n",
    "unwanted_features.extend(low_variance)\n",
    "\n",
    "print(\"\\nPotential Unwanted Features:\\n\", unwanted_features)"
   ]
  },
  {
   "cell_type": "code",
   "execution_count": 8,
   "id": "a1d89a4e",
   "metadata": {},
   "outputs": [
    {
     "name": "stdout",
     "output_type": "stream",
     "text": [
      "\n",
      "Age Binning (Equi-Frequency):\n",
      " Young          86\n",
      "Senior         83\n",
      "Elderly        82\n",
      "Middle-Aged    81\n",
      "Name: Age_Bins, dtype: int64\n"
     ]
    }
   ],
   "source": [
    "# 5. Data Discretization (Equi-Frequency Binning on Age)\n",
    "df[\"Age_Bins\"] = pd.qcut(df[\"Age\"], q=4, labels=[\"Young\", \"Middle-Aged\", \"Senior\", \"Elderly\"])\n",
    "print(\"\\nAge Binning (Equi-Frequency):\\n\", df[\"Age_Bins\"].value_counts())"
   ]
  },
  {
   "cell_type": "code",
   "execution_count": 22,
   "id": "094ab5d7",
   "metadata": {},
   "outputs": [
    {
     "name": "stdout",
     "output_type": "stream",
     "text": [
      "Age Bins:\n",
      " Young          86\n",
      "Senior         83\n",
      "Elderly        81\n",
      "Middle-Aged    81\n",
      "Name: Age_Bins, dtype: int64\n"
     ]
    }
   ],
   "source": [
    "# Sort the Age values(Equi-Frequency Binning on Age)\n",
    "sorted_ages = sorted(df[\"Age\"].dropna().values)\n",
    "\n",
    "# Divide into 4 bins\n",
    "bin_size = len(sorted_ages) // 4\n",
    "bins = {\n",
    "    \"Young\": sorted_ages[:bin_size],\n",
    "    \"Middle-Aged\": sorted_ages[bin_size:2*bin_size],\n",
    "    \"Senior\": sorted_ages[2*bin_size:3*bin_size],\n",
    "    \"Elderly\": sorted_ages[3*bin_size:]\n",
    "}\n",
    "\n",
    "# Assign bins manually\n",
    "def assign_bin(age):\n",
    "    for category, values in bins.items():\n",
    "        if age in values:\n",
    "            return category\n",
    "    return \"Elderly\"  # Assign the last bin by default\n",
    "\n",
    "df[\"Age_Bins\"] = df[\"Age\"].apply(assign_bin)\n",
    "print(\"Age Bins:\\n\", df[\"Age_Bins\"].value_counts())\n"
   ]
  },
  {
   "cell_type": "code",
   "execution_count": 19,
   "id": "85d730d1",
   "metadata": {},
   "outputs": [],
   "source": [
    "# 6. Data Normalization\n",
    "\n",
    "# Min-Max Normalization\n",
    "scaler = MinMaxScaler()\n",
    "df[\"Fare_MinMax\"] = scaler.fit_transform(df[[\"Fare\"]])"
   ]
  },
  {
   "cell_type": "code",
   "execution_count": 18,
   "id": "d0124ebd",
   "metadata": {},
   "outputs": [
    {
     "name": "stdout",
     "output_type": "stream",
     "text": [
      "\n",
      "Fare Min-Max Normalization:\n",
      "Original: [ 7.8292  7.      9.6875  8.6625 12.2875]\n",
      "Normalized: [0.015281580671177828, 0.013663090060062943, 0.018908740708122825, 0.016908073949327893, 0.023983602730431916]\n",
      "\n",
      "Age Min-Max Normalization:\n",
      "Original: [34.5 47.  62.  27.  22. ]\n",
      "Normalized: [0.45272319662402744, 0.6175656072794409, 0.815376500065937, 0.3538177502307794, 0.287880785968614]\n",
      "\n",
      "Pclass Min-Max Normalization:\n",
      "Original: [3 3 2 3 3]\n",
      "Normalized: [1.0, 1.0, 0.5, 1.0, 1.0]\n"
     ]
    }
   ],
   "source": [
    "# Min-Max Normalization Manual Calculation\n",
    "min_max_scaled = {}\n",
    "\n",
    "for col in [\"Fare\", \"Age\", \"Pclass\"]:\n",
    "    values = df[col].dropna().values  # Remove NaN values\n",
    "    min_val = sorted(values)[0]  # Manually find min\n",
    "    max_val = sorted(values)[-1]  # Manually find max\n",
    "\n",
    "    # Apply Min-Max Normalization formula\n",
    "    min_max_scaled[col] = [(x - min_val) / (max_val - min_val) for x in values]\n",
    "\n",
    "# Display first 5 results\n",
    "for col in [\"Fare\", \"Age\", \"Pclass\"]:\n",
    "    print(f\"\\n{col} Min-Max Normalization:\")\n",
    "    print(\"Original:\", df[col].values[:5])\n",
    "    print(\"Normalized:\", min_max_scaled[col][:5])\n"
   ]
  },
  {
   "cell_type": "code",
   "execution_count": 10,
   "id": "bdaa10f6",
   "metadata": {},
   "outputs": [],
   "source": [
    "# Z-score Normalization\n",
    "scaler = StandardScaler()\n",
    "df[\"Fare_Zscore\"] = scaler.fit_transform(df[[\"Fare\"]])"
   ]
  },
  {
   "cell_type": "code",
   "execution_count": 20,
   "id": "689392cb",
   "metadata": {},
   "outputs": [
    {
     "name": "stdout",
     "output_type": "stream",
     "text": [
      "\n",
      "Fare Z-Score Normalization:\n",
      "Original: [ 7.8292  7.      9.6875  8.6625 12.2875]\n",
      "Normalized: [-0.5422809539231517, -0.5558441577181183, -0.5118847870005917, -0.528650686530067, -0.4693566516087519]\n",
      "\n",
      "Age Z-Score Normalization:\n",
      "Original: [34.5 47.  62.  27.  22. ]\n",
      "Normalized: [0.3066572681324024, 1.194236454489741, 2.259331478118547, -0.2258902436820007, -0.5809219182249361]\n",
      "\n",
      "Pclass Z-Score Normalization:\n",
      "Original: [3 3 2 3 3]\n",
      "Normalized: [1.015426118678951, 1.015426118678951, -0.16804587175320673, 1.015426118678951, 1.015426118678951]\n"
     ]
    }
   ],
   "source": [
    "# Z-Score Normalization Manual Calculation\n",
    "z_score_scaled = {}\n",
    "\n",
    "for col in [\"Fare\", \"Age\", \"Pclass\"]:\n",
    "    values = df[col].dropna().values  # Remove NaN values\n",
    "    \n",
    "    # Compute mean manually\n",
    "    mean_val = sum(values) / len(values)\n",
    "\n",
    "    # Compute standard deviation manually\n",
    "    squared_diffs = [(x - mean_val) ** 2 for x in values]\n",
    "    std_val = (sum(squared_diffs) / len(values)) ** 0.5\n",
    "\n",
    "    # Apply Z-Score Normalization formula\n",
    "    z_score_scaled[col] = [(x - mean_val) / std_val for x in values]\n",
    "\n",
    "# Display first 5 results\n",
    "for col in [\"Fare\", \"Age\", \"Pclass\"]:\n",
    "    print(f\"\\n{col} Z-Score Normalization:\")\n",
    "    print(\"Original:\", df[col].values[:5])\n",
    "    print(\"Normalized:\", z_score_scaled[col][:5])\n"
   ]
  },
  {
   "cell_type": "code",
   "execution_count": 11,
   "id": "0ce0566b",
   "metadata": {},
   "outputs": [
    {
     "name": "stdout",
     "output_type": "stream",
     "text": [
      "\n",
      "Normalized Data (Min-Max, Z-score, Decimal Scaling):\n",
      "       Fare  Fare_MinMax  Fare_Zscore  Fare_DecimalScaling\n",
      "0   7.8292     0.015282    -0.497811             0.007829\n",
      "1   7.0000     0.013663    -0.512660             0.007000\n",
      "2   9.6875     0.018909    -0.464532             0.009687\n",
      "3   8.6625     0.016908    -0.482888             0.008663\n",
      "4  12.2875     0.023984    -0.417971             0.012287\n"
     ]
    }
   ],
   "source": [
    "# Decimal Scaling Normalization\n",
    "df[\"Fare_DecimalScaling\"] = df[\"Fare\"] / (10**np.ceil(np.log10(df[\"Fare\"].abs().max())))\n",
    "\n",
    "print(\"\\nNormalized Data (Min-Max, Z-score, Decimal Scaling):\\n\", df[[\"Fare\", \"Fare_MinMax\", \"Fare_Zscore\", \"Fare_DecimalScaling\"]].head())"
   ]
  },
  {
   "cell_type": "code",
   "execution_count": 21,
   "id": "056b2163",
   "metadata": {},
   "outputs": [
    {
     "name": "stdout",
     "output_type": "stream",
     "text": [
      "\n",
      "Fare Decimal Scaling Normalization:\n",
      "Original: [ 7.8292  7.      9.6875  8.6625 12.2875]\n",
      "Normalized: [0.0078292, 0.007, 0.0096875, 0.0086625, 0.0122875]\n",
      "\n",
      "Age Decimal Scaling Normalization:\n",
      "Original: [34.5 47.  62.  27.  22. ]\n",
      "Normalized: [0.345, 0.47, 0.62, 0.27, 0.22]\n",
      "\n",
      "Pclass Decimal Scaling Normalization:\n",
      "Original: [3 3 2 3 3]\n",
      "Normalized: [0.3, 0.3, 0.2, 0.3, 0.3]\n"
     ]
    }
   ],
   "source": [
    "# Decimal Scaling Normalization Manual Calculation\n",
    "decimal_scaled = {}\n",
    "\n",
    "for col in [\"Fare\", \"Age\", \"Pclass\"]:\n",
    "    values = df[col].dropna().values  # Remove NaN values\n",
    "    \n",
    "    # Find max absolute value manually\n",
    "    max_abs_val = max(abs(x) for x in values)\n",
    "    \n",
    "    # Find j (number of digits in max_abs_val)\n",
    "    j = len(str(int(max_abs_val)))\n",
    "\n",
    "    # Apply Decimal Scaling formula\n",
    "    decimal_scaled[col] = [x / (10 ** j) for x in values]\n",
    "\n",
    "# Display first 5 results\n",
    "for col in [\"Fare\", \"Age\", \"Pclass\"]:\n",
    "    print(f\"\\n{col} Decimal Scaling Normalization:\")\n",
    "    print(\"Original:\", df[col].values[:5])\n",
    "    print(\"Normalized:\", decimal_scaled[col][:5])\n"
   ]
  },
  {
   "cell_type": "code",
   "execution_count": 12,
   "id": "7590cc99",
   "metadata": {},
   "outputs": [
    {
     "data": {
      "text/html": [
       "<div>\n",
       "<style scoped>\n",
       "    .dataframe tbody tr th:only-of-type {\n",
       "        vertical-align: middle;\n",
       "    }\n",
       "\n",
       "    .dataframe tbody tr th {\n",
       "        vertical-align: top;\n",
       "    }\n",
       "\n",
       "    .dataframe thead th {\n",
       "        text-align: right;\n",
       "    }\n",
       "</style>\n",
       "<table border=\"1\" class=\"dataframe\">\n",
       "  <thead>\n",
       "    <tr style=\"text-align: right;\">\n",
       "      <th></th>\n",
       "      <th>PassengerId</th>\n",
       "      <th>Survived</th>\n",
       "      <th>Pclass</th>\n",
       "      <th>Name</th>\n",
       "      <th>Sex</th>\n",
       "      <th>Age</th>\n",
       "      <th>SibSp</th>\n",
       "      <th>Parch</th>\n",
       "      <th>Ticket</th>\n",
       "      <th>Fare</th>\n",
       "      <th>Cabin</th>\n",
       "      <th>Embarked</th>\n",
       "      <th>Age_Bins</th>\n",
       "      <th>Fare_MinMax</th>\n",
       "      <th>Fare_Zscore</th>\n",
       "      <th>Fare_DecimalScaling</th>\n",
       "    </tr>\n",
       "  </thead>\n",
       "  <tbody>\n",
       "    <tr>\n",
       "      <th>0</th>\n",
       "      <td>892</td>\n",
       "      <td>0</td>\n",
       "      <td>3</td>\n",
       "      <td>Kelly, Mr. James</td>\n",
       "      <td>male</td>\n",
       "      <td>34.5</td>\n",
       "      <td>0</td>\n",
       "      <td>0</td>\n",
       "      <td>330911</td>\n",
       "      <td>7.8292</td>\n",
       "      <td>NaN</td>\n",
       "      <td>Q</td>\n",
       "      <td>Senior</td>\n",
       "      <td>0.015282</td>\n",
       "      <td>-0.497811</td>\n",
       "      <td>0.007829</td>\n",
       "    </tr>\n",
       "    <tr>\n",
       "      <th>1</th>\n",
       "      <td>893</td>\n",
       "      <td>1</td>\n",
       "      <td>3</td>\n",
       "      <td>Wilkes, Mrs. James (Ellen Needs)</td>\n",
       "      <td>female</td>\n",
       "      <td>47.0</td>\n",
       "      <td>1</td>\n",
       "      <td>0</td>\n",
       "      <td>363272</td>\n",
       "      <td>7.0000</td>\n",
       "      <td>NaN</td>\n",
       "      <td>S</td>\n",
       "      <td>Elderly</td>\n",
       "      <td>0.013663</td>\n",
       "      <td>-0.512660</td>\n",
       "      <td>0.007000</td>\n",
       "    </tr>\n",
       "    <tr>\n",
       "      <th>2</th>\n",
       "      <td>894</td>\n",
       "      <td>0</td>\n",
       "      <td>2</td>\n",
       "      <td>Myles, Mr. Thomas Francis</td>\n",
       "      <td>male</td>\n",
       "      <td>62.0</td>\n",
       "      <td>0</td>\n",
       "      <td>0</td>\n",
       "      <td>240276</td>\n",
       "      <td>9.6875</td>\n",
       "      <td>NaN</td>\n",
       "      <td>Q</td>\n",
       "      <td>Elderly</td>\n",
       "      <td>0.018909</td>\n",
       "      <td>-0.464532</td>\n",
       "      <td>0.009687</td>\n",
       "    </tr>\n",
       "    <tr>\n",
       "      <th>3</th>\n",
       "      <td>895</td>\n",
       "      <td>0</td>\n",
       "      <td>3</td>\n",
       "      <td>Wirz, Mr. Albert</td>\n",
       "      <td>male</td>\n",
       "      <td>27.0</td>\n",
       "      <td>0</td>\n",
       "      <td>0</td>\n",
       "      <td>315154</td>\n",
       "      <td>8.6625</td>\n",
       "      <td>NaN</td>\n",
       "      <td>S</td>\n",
       "      <td>Middle-Aged</td>\n",
       "      <td>0.016908</td>\n",
       "      <td>-0.482888</td>\n",
       "      <td>0.008663</td>\n",
       "    </tr>\n",
       "    <tr>\n",
       "      <th>4</th>\n",
       "      <td>896</td>\n",
       "      <td>1</td>\n",
       "      <td>3</td>\n",
       "      <td>Hirvonen, Mrs. Alexander (Helga E Lindqvist)</td>\n",
       "      <td>female</td>\n",
       "      <td>22.0</td>\n",
       "      <td>1</td>\n",
       "      <td>1</td>\n",
       "      <td>3101298</td>\n",
       "      <td>12.2875</td>\n",
       "      <td>NaN</td>\n",
       "      <td>S</td>\n",
       "      <td>Middle-Aged</td>\n",
       "      <td>0.023984</td>\n",
       "      <td>-0.417971</td>\n",
       "      <td>0.012287</td>\n",
       "    </tr>\n",
       "  </tbody>\n",
       "</table>\n",
       "</div>"
      ],
      "text/plain": [
       "   PassengerId  Survived  Pclass  \\\n",
       "0          892         0       3   \n",
       "1          893         1       3   \n",
       "2          894         0       2   \n",
       "3          895         0       3   \n",
       "4          896         1       3   \n",
       "\n",
       "                                           Name     Sex   Age  SibSp  Parch  \\\n",
       "0                              Kelly, Mr. James    male  34.5      0      0   \n",
       "1              Wilkes, Mrs. James (Ellen Needs)  female  47.0      1      0   \n",
       "2                     Myles, Mr. Thomas Francis    male  62.0      0      0   \n",
       "3                              Wirz, Mr. Albert    male  27.0      0      0   \n",
       "4  Hirvonen, Mrs. Alexander (Helga E Lindqvist)  female  22.0      1      1   \n",
       "\n",
       "    Ticket     Fare Cabin Embarked     Age_Bins  Fare_MinMax  Fare_Zscore  \\\n",
       "0   330911   7.8292   NaN        Q       Senior     0.015282    -0.497811   \n",
       "1   363272   7.0000   NaN        S      Elderly     0.013663    -0.512660   \n",
       "2   240276   9.6875   NaN        Q      Elderly     0.018909    -0.464532   \n",
       "3   315154   8.6625   NaN        S  Middle-Aged     0.016908    -0.482888   \n",
       "4  3101298  12.2875   NaN        S  Middle-Aged     0.023984    -0.417971   \n",
       "\n",
       "   Fare_DecimalScaling  \n",
       "0             0.007829  \n",
       "1             0.007000  \n",
       "2             0.009687  \n",
       "3             0.008663  \n",
       "4             0.012287  "
      ]
     },
     "execution_count": 12,
     "metadata": {},
     "output_type": "execute_result"
    }
   ],
   "source": [
    "df.head()"
   ]
  },
  {
   "cell_type": "code",
   "execution_count": null,
   "id": "e279bf24",
   "metadata": {},
   "outputs": [],
   "source": []
  },
  {
   "cell_type": "code",
   "execution_count": null,
   "id": "e1e6ee65",
   "metadata": {},
   "outputs": [],
   "source": []
  }
 ],
 "metadata": {
  "kernelspec": {
   "display_name": "Python 3 (ipykernel)",
   "language": "python",
   "name": "python3"
  },
  "language_info": {
   "codemirror_mode": {
    "name": "ipython",
    "version": 3
   },
   "file_extension": ".py",
   "mimetype": "text/x-python",
   "name": "python",
   "nbconvert_exporter": "python",
   "pygments_lexer": "ipython3",
   "version": "3.9.13"
  }
 },
 "nbformat": 4,
 "nbformat_minor": 5
}
